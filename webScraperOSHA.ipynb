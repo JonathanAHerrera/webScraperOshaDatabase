{
  "nbformat": 4,
  "nbformat_minor": 0,
  "metadata": {
    "colab": {
      "provenance": [],
      "authorship_tag": "ABX9TyMZqvDxerpd1M68H9nYuPPq"
    },
    "kernelspec": {
      "name": "python3",
      "display_name": "Python 3"
    },
    "language_info": {
      "name": "python"
    }
  },
  "cells": [
    {
      "cell_type": "code",
      "execution_count": 1,
      "metadata": {
        "colab": {
          "base_uri": "https://localhost:8080/"
        },
        "id": "GR3N6T1jdtFX",
        "outputId": "6d913f3d-2bef-463c-e99e-12bfa7385ccc"
      },
      "outputs": [
        {
          "output_type": "stream",
          "name": "stdout",
          "text": [
            "Mounted at /content/drive\n"
          ]
        }
      ],
      "source": [
        "from google.colab import drive\n",
        "drive.mount('/content/drive')"
      ]
    },
    {
      "cell_type": "code",
      "source": [
        "!pip install selenium\n",
        "!apt-get update\n",
        "!apt install chromium-chromedriver\n",
        "!cp /usr/lib/chromium-browser/chromedriver /usr/bin\n",
        "import sys\n",
        "sys.path.insert(0, '/usr/lib/chromium-browser/chromedriver')\n"
      ],
      "metadata": {
        "colab": {
          "base_uri": "https://localhost:8080/"
        },
        "collapsed": true,
        "id": "MftMIlmQfCvq",
        "outputId": "247afe6a-7e94-4de8-a0c2-b6ff0fd68ccc"
      },
      "execution_count": 3,
      "outputs": [
        {
          "output_type": "stream",
          "name": "stdout",
          "text": [
          ]
        }
      ]
    },
    {
      "cell_type": "code",
      "source": [
        "from selenium import webdriver\n",
        "from selenium.webdriver.chrome.options import Options\n",
        "import re\n",
        "\n",
        "import time\n",
        "from selenium import webdriver\n",
        "from selenium.webdriver.chrome.options import Options\n",
        "from selenium.webdriver.common.by import By\n",
        "from selenium.webdriver.support.ui import WebDriverWait\n",
        "from selenium.webdriver.support import expected_conditions as EC\n",
        "import time\n",
        "\n",
        "chrome_options = Options()\n",
        "chrome_options.add_argument('--headless')\n",
        "chrome_options.add_argument('--no-sandbox')\n",
        "chrome_options.add_argument('--disable-dev-shm-usage')\n",
        "chrome_options.add_argument('user-agent=Mozilla/5.0 (Windows NT 10.0; Win64; x64) AppleWebKit/537.36 (KHTML, like Gecko) Chrome/103.0.0.0 Safari/537.36')\n",
        "\n",
        "driver = webdriver.Chrome(options=chrome_options)\n",
        "\n",
        "# url = 'https://www.osha.gov/ords/imis/accidentsearch.search?sic=&sicgroup=&naics=238160&acc_description=&acc_abstract=&acc_keyword=&inspnr=&fatal=&officetype=All&office=All&startmonth=03&startday=26&startyear=2025&endmonth=03&endday=26&endyear=1984&keyword_list=&p_start=20&p_finish=50&p_sort=&p_desc=DESC&p_direction=Prev&p_show=2843'\n",
        "# url='https://www.osha.gov/ords/imis/accidentsearch.search?sic=&sicgroup=&naics=2361&acc_description=&acc_abstract=&acc_keyword=&inspnr=&fatal=&officetype=All&office=All&startmonth=03&startday=26&startyear=2025&endmonth=03&endday=26&endyear=1984&keyword_list=&p_start=20&p_finish=50&p_sort=&p_desc=DESC&p_direction=Prev&p_show=2843'\n",
        "\n",
        "# abstract    https://www.osha.gov/ords/imis/AccidentSearch.search?p_logger=1&acc_description=&acc_Abstract=fall&acc_keyword=&sic=&naics=238160&Office=0100000&officetype=All&endmonth=01&endday=01&endyear=2010&startmonth=04&startday=11&startyear=2025&InspNr=\n",
        "\n",
        "officeNum = 1\n",
        "\n",
        "url = f'https://www.osha.gov/ords/imis/AccidentSearch.search?p_logger=1&acc_description=&acc_Abstract=&acc_keyword=fall&sic=&naics=238160&Office=0{officeNum}00000&officetype=All&endmonth=01&endday=01&endyear=2010&startmonth=04&startday=11&startyear=2025&InspNr=&p_show=2843'\n",
        "driver.get(url)\n",
        "\n",
        "\n",
        "# Wait for the table to load\n",
        "wait = WebDriverWait(driver, 10)\n",
        "table_xpath = '//*[@id=\"maincontain\"]/div/div[5]/table'\n",
        "table = wait.until(EC.presence_of_element_located((By.XPATH, table_xpath)))\n",
        "\n",
        "headers = table.find_element(By.TAG_NAME, 'thead').find_elements(By.TAG_NAME, 'th')\n",
        "summary_nr_index = None\n",
        "\n",
        "links = []\n",
        "for index, header in enumerate(headers):\n",
        "    if header.text.strip() == \"Summary Nr\":\n",
        "        summary_nr_index = index\n",
        "        break\n",
        "\n",
        "if summary_nr_index is None:\n",
        "    print(\"Column 'Summary Nr' not found\")\n",
        "else:\n",
        "    rows = table.find_element(By.TAG_NAME, 'tbody').find_elements(By.TAG_NAME, 'tr')\n",
        "    for row in rows:\n",
        "        cells = row.find_elements(By.TAG_NAME, 'td')\n",
        "        if len(cells) > summary_nr_index:\n",
        "            # Find the anchor tag and get its href attribute\n",
        "            link = cells[summary_nr_index].find_element(By.TAG_NAME, 'a').get_attribute('href')\n",
        "            links.append(link)\n",
        "\n",
        "driver.quit()\n",
        "\n",
        "\n"
      ],
      "metadata": {
        "id": "dGb-X-nGliN1"
      },
      "execution_count": null,
      "outputs": []
    }
  ]
}
