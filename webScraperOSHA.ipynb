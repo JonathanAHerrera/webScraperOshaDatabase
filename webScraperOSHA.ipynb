{
  "nbformat": 4,
  "nbformat_minor": 0,
  "metadata": {
    "colab": {
      "provenance": [],
      "authorship_tag": "ABX9TyMW4te2nA+GIXra1l15gsu2"
    },
    "kernelspec": {
      "name": "python3",
      "display_name": "Python 3"
    },
    "language_info": {
      "name": "python"
    }
  },
  "cells": [
    {
      "cell_type": "code",
      "execution_count": 1,
      "metadata": {
        "colab": {
          "base_uri": "https://localhost:8080/"
        },
        "id": "GR3N6T1jdtFX",
        "outputId": "6d913f3d-2bef-463c-e99e-12bfa7385ccc"
      },
      "outputs": [
        {
          "output_type": "stream",
          "name": "stdout",
          "text": [
            "Mounted at /content/drive\n"
          ]
        }
      ],
      "source": [
        "from google.colab import drive\n",
        "drive.mount('/content/drive')"
      ]
    },
    {
      "cell_type": "code",
      "source": [
        "!ls /content/drive/My\\ Drive/"
      ],
      "metadata": {
        "colab": {
          "base_uri": "https://localhost:8080/"
        },
        "id": "MftMIlmQfCvq",
        "outputId": "2102f99b-9f63-4160-9005-ff1382137fcf"
      },
      "execution_count": 2,
      "outputs": [
        {
          "output_type": "stream",
          "name": "stdout",
          "text": [
            " 20221208_222207.mp4\n",
            "'ACC Writing.gdoc'\n",
            " boiling_curve_planning.gdoc\n",
            "'Calorimeter Memo.docx'\n",
            "'CamScanner 10-01-2022 13.20.pdf'\n",
            "'CamScanner 10-02-2022 18.58.pdf'\n",
            "'CamScanner 11-27-2022 20.46.pdf'\n",
            " CAPS_Presentation.gslides\n",
            " Classroom\n",
            "'Code for engr.gdoc'\n",
            "'Colab Notebooks'\n",
            "'copy just in case for sig figs.docx'\n",
            "'Copy of Jonathan_Herrera.gslides'\n",
            "'Copy of Youth Mental Health First Aid Workshop | by Slidesgo.gslides'\n",
            " diabetes_risk_planning.gdoc\n",
            " example_6.gsheet\n",
            "'Felix Plan to Guide Life Yeah:).gdoc'\n",
            "\"Financial Stakeholder - Jonathan Herrera'.mp4\"\n",
            "'For Rishika.docx'\n",
            " go_moves_planning.gdoc\n",
            " Group10_Lab1_Report.docx\n",
            " Group10_Lab1_Report.gdoc\n",
            "'Group Members Evaluation Submission.gdoc'\n",
            " Herrera_Jonathan_Resume_TA.pdf\n",
            " Hw4_Summary_JonathanHerrera.gdoc\n",
            "'Individual Test Cases.gsheet'\n",
            "'Jonathan Folder'\n",
            " Jonathan_Herrera.gslides\n",
            " Jonathan_Herrera_Hw3.gdoc\n",
            "'Jonathan_Herrera_Resume (1).pdf'\n",
            " JonathanHerreraResume.pdf\n",
            " JonathanHerrera_Transcript.pdf\n",
            " JonathanHerreraUnofficialTranscript.pdf\n",
            "'Lab2 info.gdoc'\n",
            " Lab2_Report_Team8.docx\n",
            "'Lab 3 Kinetic.gsheet'\n",
            " Lab3_Team4_LabReport.docx\n",
            " Lab6_Team4\n",
            " LabReportTemplatev6.docx\n",
            "'Let me know if you have questions, and goodluck! :).docx'\n",
            "'List of Tthings he will go over.gdoc'\n",
            "'Literature Reivew.gsheet'\n",
            "'Literature Review.xlsx'\n",
            "'More Code :).gdoc'\n",
            "'Notes for first Presentation.gdoc'\n",
            "'numpy example.gdoc'\n",
            " passportchecker.gdoc\n",
            "'Physics book typos >:) hehehe.gdoc'\n",
            " Pokemon.gslides\n",
            " reflection_JonathanHerrera.gdoc\n",
            " Report.gdoc\n",
            "'RISHIKA DOCUMENT.gdoc'\n",
            "'rishika more like RICHika B).docx'\n",
            "'Robert Metcalfe Presentation.gslides'\n",
            " Schedule.gsheet\n",
            "'Script for Jonathan Herrera Presentation.gdoc'\n",
            "'TEAM LAB.gdoc'\n",
            "'The Destructive Waves of an Earthquake.gdoc'\n",
            "'The Second Waltz Sheet Music.gdoc'\n",
            "'Untitled document (10).gdoc'\n",
            "'Untitled document (11).gdoc'\n",
            "'Untitled document (12).gdoc'\n",
            "'Untitled document (13).gdoc'\n",
            "'Untitled document (14).gdoc'\n",
            "'Untitled document (15).gdoc'\n",
            "'Untitled document (16).gdoc'\n",
            "'Untitled document (17).gdoc'\n",
            "'Untitled document (18).gdoc'\n",
            "'Untitled document (19).gdoc'\n",
            "'Untitled document (1).gdoc'\n",
            "'Untitled document (20).gdoc'\n",
            "'Untitled document (21).gdoc'\n",
            "'Untitled document (22).gdoc'\n",
            "'Untitled document (2).gdoc'\n",
            "'Untitled document (3).gdoc'\n",
            "'Untitled document (4).gdoc'\n",
            "'Untitled document (5).gdoc'\n",
            "'Untitled document (6).gdoc'\n",
            "'Untitled document (7).gdoc'\n",
            "'Untitled document (8).gdoc'\n",
            "'Untitled document (9).gdoc'\n",
            "'Untitled document.gdoc'\n",
            "'Untitled presentation.gslides'\n",
            " webScraperOSHA.ipynb\n"
          ]
        }
      ]
    }
  ]
}